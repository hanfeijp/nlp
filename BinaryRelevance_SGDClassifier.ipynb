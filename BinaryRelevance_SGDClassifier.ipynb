{
 "cells": [
  {
   "cell_type": "markdown",
   "metadata": {},
   "source": [
    "# REFERENCES\n",
    "\n",
    "* http://www.aic.uniovi.es/~jdiez/Jorge_Diez/Journal_Papers_files/luaces2012a.pdf\n",
    "\n",
    "# AIM\n",
    "\n",
    "文章データをBinary Relevanceの方法でマルチラベル分類を行う"
   ]
  },
  {
   "cell_type": "code",
   "execution_count": 1,
   "metadata": {
    "collapsed": true
   },
   "outputs": [],
   "source": [
    "import time\n",
    "import numpy as np\n",
    "import matplotlib\n",
    "import matplotlib.pylab as plt\n",
    "matplotlib.style.use(\"ggplot\")\n",
    "from sklearn.feature_extraction.text import CountVectorizer\n",
    "from sklearn.linear_model import SGDClassifier\n",
    "from sklearn.datasets import fetch_20newsgroups"
   ]
  },
  {
   "cell_type": "code",
   "execution_count": 2,
   "metadata": {},
   "outputs": [
    {
     "name": "stdout",
     "output_type": "stream",
     "text": [
      "python 3.5.2\n",
      "\n",
      "numpy 1.13.1\n",
      "matplotlib 2.0.2\n",
      "scikit-learn 0.19.0\n"
     ]
    }
   ],
   "source": [
    "from pkg_resources import get_distribution\n",
    "import platform\n",
    "print(\"python\", platform.python_version())\n",
    "print(\"\")\n",
    "libs = [\"numpy\", \"matplotlib\", \"scikit-learn\"]\n",
    "for lib in libs:\n",
    "    version = get_distribution(lib).version\n",
    "    print(lib, version)"
   ]
  },
  {
   "cell_type": "code",
   "execution_count": 3,
   "metadata": {
    "collapsed": true
   },
   "outputs": [],
   "source": [
    "# 正例と負例のみを与えて学習させるようにする\n",
    "class BinaryRelevance:\n",
    "    def __init__(self, corpus):\n",
    "        # クラスの初期化\n",
    "        # :param corpus (string(object) np.array): コーパス\n",
    "        self.labels = [] # 分類ラベルリスト\n",
    "        self.clfs = {} # 分類器インスタンスリスト\n",
    "        # set vectorizer\n",
    "        self.vectorizer = CountVectorizer(binary=True) # BoW, binary\n",
    "        self.vectorizer.fit_transform(corpus)\n",
    "        \n",
    "    def train(self, target_label, positive_x, negative_x):\n",
    "        # 学習\n",
    "        # :param target_label (int): どのラベルの分類器を学習させるか\n",
    "        # :param positive_x (string(object) np.array): 正例の文章リスト\n",
    "        # :param negative_x (string(object) np.array): 負例の文章リスト\n",
    "        # エラーチェック\n",
    "        if not self.exists_label(target_label):\n",
    "            return False\n",
    "        # ペアデータセットにしてシャッフルする\n",
    "        dataset = []\n",
    "        for x in positive_x:\n",
    "            dataset.append((x,1)) # 正例\n",
    "        for x in negative_x:\n",
    "            dataset.append((x,0)) # 負例\n",
    "        dataset = np.array(dataset)\n",
    "        np.random.shuffle(dataset) # シャッフル\n",
    "        x = np.array(dataset[:,0], dtype=\"object\") # 入力\n",
    "        y = np.array(dataset[:,1], dtype=\"int32\") # ラベル\n",
    "        self.clfs[target_label].fit(self.vectorizer.transform(x), y) # 学習            \n",
    "        return True\n",
    "    \n",
    "    def predict(self, x):\n",
    "        # 予測\n",
    "        # :param x: 予測させる文章リスト\n",
    "        # :return: \n",
    "        result = []\n",
    "        for i in range(len(x)):\n",
    "            result.append([]) # 付与されたラベルを追加していくための配列\n",
    "        for label in self.clfs: # 分類器をループ\n",
    "            y = self.clfs[label].predict(self.vectorizer.transform(x)) # このラベルかどうかを予測\n",
    "            for i, y_ in enumerate(y):\n",
    "                if y_ == 1: # このラベルがつくと予想された\n",
    "                    result[i].append(label)\n",
    "        return result\n",
    "        \n",
    "    def set_labels(self, labels):\n",
    "        # ラベルとラベルに対応する分類器インスタンスをセットする\n",
    "        # :params labels (int np.array): 追加するラベルリスト\n",
    "        for label in labels:\n",
    "            self.labels.append(label) # ラベル追加\n",
    "            self.clfs[label] = SGDClassifier(loss=\"hinge\", penalty=\"l2\", max_iter=5, n_iter=None) # 分類器インスタンス作成\n",
    "    \n",
    "    def exists_label(self, label):\n",
    "        # ラベルが存在するかどうか\n",
    "        # :param label (int): 調べるラベル\n",
    "        if (label not in self.labels) or (label not in self.clfs):\n",
    "            return False\n",
    "        return True"
   ]
  },
  {
   "cell_type": "code",
   "execution_count": 4,
   "metadata": {
    "collapsed": true
   },
   "outputs": [],
   "source": [
    "categories = ['alt.atheism', 'comp.graphics', 'comp.os.ms-windows.misc', 'comp.sys.ibm.pc.hardware', 'comp.sys.mac.hardware']\n",
    "train = fetch_20newsgroups(subset=\"train\", categories=categories)\n",
    "br = BinaryRelevance(train.data)\n",
    "\n"
   ]
  }
 ],
 "metadata": {
  "kernelspec": {
   "display_name": "Python 3",
   "language": "python",
   "name": "python3"
  },
  "language_info": {
   "codemirror_mode": {
    "name": "ipython",
    "version": 3
   },
   "file_extension": ".py",
   "mimetype": "text/x-python",
   "name": "python",
   "nbconvert_exporter": "python",
   "pygments_lexer": "ipython3",
   "version": "3.5.2"
  }
 },
 "nbformat": 4,
 "nbformat_minor": 2
}
